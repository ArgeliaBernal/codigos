{
 "cells": [
  {
   "cell_type": "code",
   "execution_count": 1,
   "metadata": {},
   "outputs": [],
   "source": [
    "import numpy as np\n",
    "import matplotlib.pyplot as plt\n",
    "import math\n",
    "from numpy import sign"
   ]
  },
  {
   "cell_type": "code",
   "execution_count": 2,
   "metadata": {},
   "outputs": [],
   "source": [
    "def integrate1(f,x,y,xStop,h):\n",
    "    def euler(f,x,y,h):\n",
    "        k0 = h*f(x,y)\n",
    "        return k0\n",
    "    X = []\n",
    "    Y = []\n",
    "    X.append(x)\n",
    "    Y.append(y)\n",
    "    while x < xStop:\n",
    "        h = min(h,xStop-x)\n",
    "        y = y + euler(f,x,y,h)\n",
    "        x = x + h\n",
    "        X.append(x)\n",
    "        Y.append(y)\n",
    "    return np.array(X), np.array(Y)"
   ]
  },
  {
   "cell_type": "code",
   "execution_count": 3,
   "metadata": {},
   "outputs": [],
   "source": [
    "def r(v):\n",
    "    r=np.zeros(len(v))\n",
    "    X,Y=integrate1(f,x,initcond(v),xStop,h)\n",
    "    y = Y[len(Y)-1]\n",
    "    r[0] = y[0]\n",
    "    return r"
   ]
  },
  {
   "cell_type": "code",
   "execution_count": 75,
   "metadata": {},
   "outputs": [],
   "source": [
    "def newtonRaphson(r,v,tol=1.0e-9): \n",
    "    def jacobian(r,v):\n",
    "        global jac\n",
    "        h = 1.0e-4\n",
    "        n = len(v)\n",
    "        jac = np.zeros((n,n))\n",
    "        r0 = r(v)\n",
    "        for i in range(n):\n",
    "            temp = v[i]\n",
    "            v[i] = temp + h\n",
    "            r1 = r(v)\n",
    "            v[i] = temp\n",
    "            jac[:,i] = (r1 - r0)/h\n",
    "        return jac, r0\n",
    "    \n",
    "    for i in range (30):\n",
    "        jac,r0 = jacobian(r,v)\n",
    "        if math.sqrt(np.dot(r0,r0)/len(v)) < tol: return v\n",
    "        dv = -r0/jac[0]\n",
    "        v = v + dv\n",
    "        if math.sqrt(np.dot(dv,dv)) < tol*max(max(abs(v)),1.0):\n",
    "            return v"
   ]
  },
  {
   "cell_type": "code",
   "execution_count": 76,
   "metadata": {},
   "outputs": [],
   "source": [
    "def initcond(v):\n",
    "    return np.array([1,0,v[0],0])\n"
   ]
  },
  {
   "cell_type": "code",
   "execution_count": 77,
   "metadata": {},
   "outputs": [],
   "source": [
    "def f(x,y):\n",
    "    f = np.zeros(4)\n",
    "    f[0] = y[1]\n",
    "    f[1] = 2.*y[2]-2./x*y[1]\n",
    "    f[2] = y[3]\n",
    "    f[3] = y[0]**2.-2./x*y[3]  \n",
    "    return f"
   ]
  },
  {
   "cell_type": "code",
   "execution_count": 81,
   "metadata": {},
   "outputs": [],
   "source": [
    "x = 0.001\n",
    "xStop = 4.\n",
    "h = .0001\n",
    "v = np.array([-0.92])\n",
    "v = newtonRaphson(r,v,1.0e-5)"
   ]
  },
  {
   "cell_type": "code",
   "execution_count": 82,
   "metadata": {},
   "outputs": [
    {
     "data": {
      "text/plain": [
       "array([-0.598014])"
      ]
     },
     "execution_count": 82,
     "metadata": {},
     "output_type": "execute_result"
    }
   ],
   "source": [
    "v"
   ]
  },
  {
   "cell_type": "code",
   "execution_count": 83,
   "metadata": {},
   "outputs": [
    {
     "data": {
      "text/plain": [
       "Text(0,0.5,'y')"
      ]
     },
     "execution_count": 83,
     "metadata": {},
     "output_type": "execute_result"
    },
    {
     "data": {
      "image/png": "[encoded data removed]",
      "text/plain": [
       "<Figure size 432x288 with 1 Axes>"
      ]
     },
     "metadata": {
      "needs_background": "light"
     },
     "output_type": "display_data"
    }
   ],
   "source": [
    "\n",
    "X,Y=integrate1(f,x,initcond(v),xStop,h)\n",
    "plt.plot(X,Y[:,0],'b-')\n",
    "plt.grid(True)\n",
    "plt.xlabel(\"x\"); plt.ylabel(\"y\")\n"
   ]
  },
  {
   "cell_type": "code",
   "execution_count": null,
   "metadata": {},
   "outputs": [],
   "source": []
  },
  {
   "cell_type": "code",
   "execution_count": null,
   "metadata": {},
   "outputs": [],
   "source": []
  }
 ],
 "metadata": {
  "kernelspec": {
   "display_name": "Python 2",
   "language": "python",
   "name": "python2"
  },
  "language_info": {
   "codemirror_mode": {
    "name": "ipython",
    "version": 2
   },
   "file_extension": ".py",
   "mimetype": "text/x-python",
   "name": "python",
   "nbconvert_exporter": "python",
   "pygments_lexer": "ipython2",
   "version": "2.7.16"
  }
 },
 "nbformat": 4,
 "nbformat_minor": 2
}
